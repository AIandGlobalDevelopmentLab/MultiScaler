{
 "cells": [
  {
   "cell_type": "markdown",
   "metadata": {
    "tags": []
   },
   "source": [
    "This notebook is used to generate the nearest text from the RSICD caption corpus of the CLIP-model for the LongFellow images"
   ]
  },
  {
   "cell_type": "code",
   "execution_count": 1,
   "metadata": {
    "tags": []
   },
   "outputs": [
    {
     "name": "stdout",
     "output_type": "stream",
     "text": [
      "Warning: Running in Jupyter Notebook. Using default value -1.\n"
     ]
    }
   ],
   "source": [
    "import os\n",
    "wd = \"./Sim/LongFellowCLipInterp/\"\n",
    "os.chdir(wd)\n",
    "import sys\n",
    "import logging \n",
    "import time\n",
    "import random\n",
    "import numpy as np\n",
    "import pandas as pd\n",
    "import torch\n",
    "import torch.nn as nn\n",
    "import matplotlib.pyplot as plt\n",
    "from torch.utils.data import TensorDataset, DataLoader\n",
    "import torch\n",
    "import torch.nn as nn\n",
    "from transformers import CLIPModel, CLIPProcessor, set_seed\n",
    "from Utils import process_images, AvgGradientNorm\n",
    "from torchvision import transforms\n",
    "import matplotlib.pyplot as plt\n",
    "from PIL import Image\n",
    "import numpy as np\n",
    "from collections import defaultdict\n",
    "\n",
    "# Global Variables\n",
    "REDOWNLOADDATA = False\n",
    "monte_carlo_i = 1\n",
    "Separate = False\n",
    "Full=True\n",
    "target_name = 'NOTobsY' # 'obsY', or 'tauPred'\n",
    "\n",
    "# Path parameters\n",
    "optimize_image_reps = \"clip-rsicd\"\n",
    "data_type = \"image\"\n",
    "applications = [\"peru\"]\n",
    "perturbation_magnitude = 0\n",
    "image_type = \"original\"\n",
    "image_size1 = 64\n",
    "image_size2 = 256\n",
    "if sys.argv[1] == '-f':\n",
    "    iter_num = -1\n",
    "    print(\"Warning: Running in Jupyter Notebook. Using default value -1.\")\n",
    "elif len(sys.argv) > 1:\n",
    "    args = sys.argv[1:]  # Get command line arguments\n",
    "    iter_num = int(args[0])  # Assuming args is defined earlier in the code\n",
    "    monte_carlo_i = int(args[1])\n",
    "    if len(sys.argv) > 3:\n",
    "        image_size1 = args[2]\n",
    "        image_size2 = args[3]\n",
    "else:\n",
    "    iter_num = -1\n",
    "    print(\"Warning: No iteration number provided. Using default value -1.\")\n",
    "\n",
    "# Directories\n",
    "os.makedirs('./Figures', exist_ok=True)\n",
    "os.makedirs('./TrainingInfo', exist_ok=True)\n",
    "os.makedirs('./log', exist_ok=True)\n",
    "os.makedirs('./FineTuneIterResults', exist_ok=True)\n",
    "save_ImageTensor_dir = './DataInfo/Images'\n",
    "saveObsWDir = './DataInfo/ObsW'\n",
    "saveGeoDir = './DataInfo/geo'\n",
    "saveObsYDir = './DataInfo/ObsY'\n",
    "saveTrainIndicesDir = './DataInfo/TrainIndices'\n",
    "saveResDir = './FineTuneIterResults/FineTuneRes'\n",
    "saveRepDir = './FineTuneIterResults/FineTuneReps'\n",
    "\n",
    "saveDirs = [saveObsWDir, saveGeoDir, saveObsYDir, save_ImageTensor_dir, saveTrainIndicesDir, saveResDir, saveResDir]\n",
    "for dir in saveDirs:\n",
    "    os.makedirs(dir, exist_ok=True)\n",
    "    os.makedirs(dir, exist_ok=True)\n",
    "logging.basicConfig(filename=f'./log/trainingIter_{iter_num}.log', level=logging.INFO, format='%(asctime)s - %(levelname)s - %(message)s')\n",
    "    \n",
    "def set_all_seeds(seed_value=42):\n",
    "    # 1. Python's built-in random library\n",
    "    random.seed(seed_value)\n",
    "    \n",
    "    # 2. NumPy's random seed\n",
    "    np.random.seed(seed_value)\n",
    "    \n",
    "    torch.manual_seed(seed_value)\n",
    "    \n",
    "    if torch.cuda.is_available():\n",
    "        torch.cuda.manual_seed(seed_value)\n",
    "set_all_seeds(monte_carlo_i)"
   ]
  },
  {
   "cell_type": "markdown",
   "metadata": {},
   "source": [
    "# Get CLIP model"
   ]
  },
  {
   "cell_type": "code",
   "execution_count": 2,
   "metadata": {
    "tags": []
   },
   "outputs": [
    {
     "name": "stderr",
     "output_type": "stream",
     "text": [
      "2024-10-31 22:28:13.551602: I tensorflow/core/util/port.cc:153] oneDNN custom operations are on. You may see slightly different numerical results due to floating-point round-off errors from different computation orders. To turn them off, set the environment variable `TF_ENABLE_ONEDNN_OPTS=0`.\n",
      "2024-10-31 22:28:13.563396: E external/local_xla/xla/stream_executor/cuda/cuda_fft.cc:485] Unable to register cuFFT factory: Attempting to register factory for plugin cuFFT when one has already been registered\n",
      "2024-10-31 22:28:13.576422: E external/local_xla/xla/stream_executor/cuda/cuda_dnn.cc:8454] Unable to register cuDNN factory: Attempting to register factory for plugin cuDNN when one has already been registered\n",
      "2024-10-31 22:28:13.580376: E external/local_xla/xla/stream_executor/cuda/cuda_blas.cc:1452] Unable to register cuBLAS factory: Attempting to register factory for plugin cuBLAS when one has already been registered\n",
      "2024-10-31 22:28:13.591204: I tensorflow/core/platform/cpu_feature_guard.cc:210] This TensorFlow binary is optimized to use available CPU instructions in performance-critical operations.\n",
      "To enable the following instructions: AVX2 AVX512F AVX512_VNNI FMA, in other operations, rebuild TensorFlow with the appropriate compiler flags.\n",
      "2024-10-31 22:28:17.363522: W tensorflow/compiler/tf2tensorrt/utils/py_utils.cc:38] TF-TRT Warning: Could not find TensorRT\n"
     ]
    }
   ],
   "source": [
    "device = torch.device(\"cuda\" if torch.cuda.is_available() else \"cpu\")\n",
    "CLIP_model = CLIPModel.from_pretrained(\"flax-community/clip-rsicd-v2\").to(device)\n",
    "CLIP_processor = CLIPProcessor.from_pretrained(\"flax-community/clip-rsicd-v2\")"
   ]
  },
  {
   "cell_type": "markdown",
   "metadata": {},
   "source": [
    "## Get Word List"
   ]
  },
  {
   "cell_type": "code",
   "execution_count": 29,
   "metadata": {
    "tags": []
   },
   "outputs": [],
   "source": [
    "# Get the word_set\n",
    "import re\n",
    "def clean_sentence(sentence):\n",
    "    # Step 1: Remove extra spaces and correct common grammatical issues\n",
    "    sentence = sentence.strip()  # Remove leading/trailing spaces\n",
    "    sentence = re.sub(r'\\s+', ' ', sentence)  # Replace multiple spaces with a single space\n",
    "    \n",
    "    # Step 2: Fix spacing around punctuation (remove space before period)\n",
    "    sentence = re.sub(r'\\s+\\.', '.', sentence)\n",
    "    \n",
    "    # Step 3: Correct capitalization (capitalize the first letter of the sentence)\n",
    "    sentence = sentence[0].upper() + sentence[1:]\n",
    "    \n",
    "    return sentence\n",
    "\n",
    "def get_unique_words(sentence_list):\n",
    "    # Step 1: Create an empty set to store unique words\n",
    "    unique_words = set()\n",
    "    \n",
    "    # Step 2: Iterate through each sentence in the list\n",
    "    for sentence in sentence_list:\n",
    "        # Step 3: Convert sentence to lowercase and remove punctuation using regex\n",
    "        sentence = re.sub(r'[^\\w\\s]', '', sentence.lower())\n",
    "        \n",
    "        # Step 4: Split sentence into words\n",
    "        words = sentence.split()\n",
    "        \n",
    "        # Step 5: Add words to the set (automatically removes duplicates)\n",
    "        unique_words.update(words)\n",
    "    \n",
    "    return unique_words\n",
    "\n",
    "# Get the rsicd sentences\n",
    "sentence_path = './rsicd_total_sentences.txt'\n",
    "\n",
    "with open(sentence_path, 'r') as file:\n",
    "    # Use strip to remove any extra spaces or newline characters\n",
    "    sentence_list = list(set([line.strip() for line in file]))\n",
    "    \n",
    "# Define the land cover categories\n",
    "land_cover_categories = [\n",
    "    \"Open Water\",\n",
    "    \"Perennial Ice/Snow\",\n",
    "    \"Developed, Open Space\",\n",
    "    \"Developed, Low Intensity\",\n",
    "    \"Developed, Medium Intensity\",\n",
    "    \"Developed, High Intensity\",\n",
    "    \"Barren Land (Rock/Sand/Clay)\",\n",
    "    \"Deciduous Forest\",\n",
    "    \"Evergreen Forest\",\n",
    "    \"Mixed Forest\",\n",
    "    \"Dwarf Scrub\",\n",
    "    \"Shrub/Scrub\",\n",
    "    \"Grassland/Herbaceous\",\n",
    "    \"Sedge/Herbaceous\",\n",
    "    \"Lichens\",\n",
    "    \"Moss\",\n",
    "    \"Pasture/Hay\",\n",
    "    \"Cultivated Crops\",\n",
    "    \"Woody Wetlands\",\n",
    "    \"Emergent Herbaceous Wetlands\"\n",
    "]\n",
    "\n",
    "# Post-process and store everything into match_lists\n",
    "land_cover_sentences = [\"An aerial photograph of \" + category.lower() + \" area.\" for category in land_cover_categories]\n",
    "sentence_list = [sentence for sentence in sentence_list if \"satellite\" not in sentence]\n",
    "sentence_list = [sentence[:-2] + \".\" if sentence[-2:] == \" .\" else sentence for sentence in sentence_list]\n",
    "word_list = list(get_unique_words(sentence_list))\n",
    "word_list = [re.sub(r'\\d+', '', word) for word in word_list]\n",
    "word_list = [item.replace(\"square_\", \"square\") for item in word_list]\n",
    "word_list = [word for word in word_list if len(word) > 2]\n",
    "match_lists = [word_list, sentence_list, land_cover_sentences]\n",
    "match_names = [\"rsicd word\", \"rsicd sentence\", \"land_cover\"]\n",
    "\n"
   ]
  },
  {
   "cell_type": "markdown",
   "metadata": {
    "tags": []
   },
   "source": [
    "# Find Embedding Similarity on Washington Picture"
   ]
  },
  {
   "cell_type": "code",
   "execution_count": 39,
   "metadata": {
    "tags": []
   },
   "outputs": [
    {
     "data": {
      "image/png": "[encoded data removed]",
      "text/plain": [
       "<Figure size 640x480 with 1 Axes>"
      ]
     },
     "metadata": {},
     "output_type": "display_data"
    },
    {
     "data": {
      "image/png": "[encoded data removed]",
      "text/plain": [
       "<Figure size 640x480 with 1 Axes>"
      ]
     },
     "metadata": {},
     "output_type": "display_data"
    },
    {
     "name": "stdout",
     "output_type": "stream",
     "text": [
      "rsicd word's match for image_close is: viadu with similarity: 0.2679303288459778\n",
      "rsicd word's match for image_far is: neighborhoods with similarity: 0.2604818046092987\n",
      "\n"
     ]
    },
    {
     "data": {
      "image/png": "[encoded data removed]",
      "text/plain": [
       "<Figure size 640x480 with 1 Axes>"
      ]
     },
     "metadata": {},
     "output_type": "display_data"
    },
    {
     "data": {
      "image/png": "[encoded data removed]",
      "text/plain": [
       "<Figure size 640x480 with 1 Axes>"
      ]
     },
     "metadata": {},
     "output_type": "display_data"
    },
    {
     "name": "stdout",
     "output_type": "stream",
     "text": [
      "rsicd sentence's match for image_close is: the square with some halls and lawns is in a rectangular region shich is in the middle of the forest. with similarity: 0.3110278844833374\n",
      "rsicd sentence's match for image_far is: here is a zone of apartment buildings between a river and a road. with similarity: 0.30567869544029236\n",
      "\n"
     ]
    },
    {
     "data": {
      "image/png": "[encoded data removed]",
      "text/plain": [
       "<Figure size 640x480 with 1 Axes>"
      ]
     },
     "metadata": {},
     "output_type": "display_data"
    },
    {
     "data": {
      "image/png": "[encoded data removed]",
      "text/plain": [
       "<Figure size 640x480 with 1 Axes>"
      ]
     },
     "metadata": {},
     "output_type": "display_data"
    },
    {
     "name": "stdout",
     "output_type": "stream",
     "text": [
      "land_cover's match for image_close is: An aerial photograph of shrub/scrub area. with similarity: 0.27491849660873413\n",
      "land_cover's match for image_far is: An aerial photograph of developed, low intensity area. with similarity: 0.28180885314941406\n",
      "\n"
     ]
    }
   ],
   "source": [
    "import torch\n",
    "from PIL import Image\n",
    "from transformers import CLIPProcessor, CLIPModel\n",
    "\n",
    "# Load the CLIP model and processor\n",
    "CLIP_model = CLIPModel.from_pretrained(\"openai/clip-vit-base-patch32\").to(device)\n",
    "CLIP_processor = CLIPProcessor.from_pretrained(\"openai/clip-vit-base-patch32\")\n",
    "\n",
    "# Load the two PNG images\n",
    "image_close = Image.open('./Longfellow/longfellow_close.png')\n",
    "image_far = Image.open('./Longfellow/longfellow_far.png')\n",
    "\n",
    "# Ensure the images are loaded correctly\n",
    "assert image_close is not None, \"Failed to load longfellow_close.png\"\n",
    "assert image_far is not None, \"Failed to load longfellow_far.png\"\n",
    "\n",
    "for i, match_list in enumerate(match_lists):\n",
    "    name = match_names[i]\n",
    "    batch_size = 100  # Adjust this based on available memory\n",
    "    all_similarities_close = []\n",
    "    all_similarities_far = []\n",
    "\n",
    "    \n",
    "    # Preprocess image inputs\n",
    "    image_close_preprocessed = CLIP_processor(images=image_close, return_tensors=\"pt\").to(device)\n",
    "    image_far_preprocessed = CLIP_processor(images=image_far, return_tensors=\"pt\").to(device)\n",
    "\n",
    "    # Get text and image embeddings\n",
    "    with torch.no_grad():\n",
    "        # Get the image embeddings from the vision model\n",
    "        image_close_embeddings = CLIP_model.get_image_features(**image_close_preprocessed)\n",
    "        image_far_embeddings = CLIP_model.get_image_features(**image_far_preprocessed)\n",
    "        \n",
    "    image_close_embeddings = image_close_embeddings / image_close_embeddings.norm(dim=-1, keepdim=True)\n",
    "    image_far_embeddings = image_far_embeddings / image_far_embeddings.norm(dim=-1, keepdim=True)\n",
    "    \n",
    "    for i in range(0, len(match_list), batch_size):\n",
    "        # Preprocess a smaller batch of text inputs\n",
    "        text_inputs = CLIP_processor(text=match_list[i:i+batch_size], return_tensors='pt', padding=True).to(device)\n",
    "        input_ids = text_inputs['input_ids']\n",
    "        attention_mask = text_inputs['attention_mask']\n",
    "\n",
    "        # Get text embeddings for the smaller batch\n",
    "        with torch.no_grad():\n",
    "            text_embeddings = CLIP_model.get_text_features(input_ids=input_ids, attention_mask=attention_mask)\n",
    "\n",
    "        # Normalize embeddings to get cosine similarity\n",
    "        text_embeddings = text_embeddings / text_embeddings.norm(dim=-1, keepdim=True)\n",
    "\n",
    "\n",
    "        # Compute cosine similarities between text and images\n",
    "        similarities_close_batch = torch.matmul(text_embeddings, image_close_embeddings.T)\n",
    "        similarities_far_batch = torch.matmul(text_embeddings, image_far_embeddings.T)\n",
    "        \n",
    "        # Append batch similarities to the total lists\n",
    "        all_similarities_close.append(similarities_close_batch)\n",
    "        all_similarities_far.append(similarities_far_batch)\n",
    "    \n",
    "    all_similarities_close = torch.cat(all_similarities_close, dim=0)\n",
    "    all_similarities_far = torch.cat(all_similarities_far, dim=0)\n",
    "    \n",
    "    # Find the highest similarity for each image\n",
    "    max_sim_close, best_match_close = all_similarities_close.max(dim=0)\n",
    "    max_sim_far, best_match_far = all_similarities_far.max(dim=0)\n",
    "\n",
    "    # Output the most similar text for each image\n",
    "    print(f\"{name}'s match for image_close is: {match_list[best_match_close.item()]} with similarity: {max_sim_close.item()}\")\n",
    "    print(f\"{name}'s match for image_far is: {match_list[best_match_far.item()]} with similarity: {max_sim_far.item()}\\n\")"
   ]
  }
 ],
 "metadata": {
  "kernelspec": {
   "display_name": "hface",
   "language": "python",
   "name": "hface"
  },
  "language_info": {
   "codemirror_mode": {
    "name": "ipython",
    "version": 3
   },
   "file_extension": ".py",
   "mimetype": "text/x-python",
   "name": "python",
   "nbconvert_exporter": "python",
   "pygments_lexer": "ipython3",
   "version": "3.11.9"
  }
 },
 "nbformat": 4,
 "nbformat_minor": 4
}
